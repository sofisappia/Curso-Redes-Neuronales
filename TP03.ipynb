{
 "cells": [
  {
   "cell_type": "markdown",
   "metadata": {},
   "source": [
    "# TP N° 3: Modelo de Hopfield"
   ]
  },
  {
   "cell_type": "markdown",
   "metadata": {},
   "source": [
    "Implementá una red de Hopfield de N = 500 neuronas con dinámica determinista: \n",
    "\n",
    "$S_i(t + 1) = signo(h_i(t))$\n",
    "\n",
    "donde $h_i(t) = \\sum_{j \\neq i}^N = w_{ij} S_j(t)$\n",
    "\n",
    "La red debe almacenar $p$ patrones $\\{ \\xi_i^\\mu = \\pm 1\\}$ aleatorios e independientes entre sí.\n",
    "Luego debes colocar inicialmente la red en uno de los patrones, por ejemplo el primero $\\mu = 1$, y dejarla evolucionar hasta que alcance un estado estacionario. En el estado estacionario debes medir la superposición:\n",
    "\n",
    "$m^\\mu = \\frac{1}{N} \\sum_{i=1}^N \\xi_i^\\mu S_i(\\infty)$\n",
    "\n",
    "A seguir repetí este procedimiento para cada uno de los $p$ padrones almacenados y calculá el promedio de todos ellos $<m><p> = \\frac{1}{p} \\sum_{\\mu = 1}^p m^\\mu$\n",
    "\n"
   ]
  },
  {
   "cell_type": "code",
   "execution_count": 19,
   "metadata": {},
   "outputs": [],
   "source": [
    "import numpy as np\n",
    "from numpy.random import randint\n",
    "\n",
    "class HopfieldNetwork:\n",
    "    def __init__(self, N, p):\n",
    "        self.nNeurons = N\n",
    "        self.p = p\n",
    "        self.patterns = self.init_patterns()\n",
    "        \n",
    "    def init_patterns(self):\n",
    "        # Inicializar p patrones aleatorios e independientes entre sí\n",
    "        patrones = []\n",
    "        for i in range(self.p):\n",
    "            pi = []\n",
    "            isEqual = False\n",
    "            for n in range(self.nNeurons): #genero nuevo patrón\n",
    "                pi.append(randint(0, 2)) # añade  0 o +1 de manera aleatoria\n",
    "\n",
    "            if(len(patrones) == 0):\n",
    "                patrones.append(pi)\n",
    "            else:\n",
    "                for j in range(len(patrones)): \n",
    "                    if(np.array_equal(np.array(pi), np.array(patrones[j]))): \n",
    "                    # Si es igual a algún patrón ya existente lo vuelvo a generar\n",
    "                        isEqual = True\n",
    "                        #print(\"Es igual\")\n",
    "                        break\n",
    "                if (not isEqual): # Si no lo guardo y prosigo con el siguiente\n",
    "                   # print(\"No es igual\")\n",
    "                    patrones.append(pi)\n",
    "                    isEqual = False\n",
    "        patrones = np.array(patrones) * 2 - 1 # Reemplaza 0 por -1\n",
    "        return patrones  \n",
    "    \n",
    "    def train(self):\n",
    "        # Entrenamiento\n",
    "        self.W = np.zeros((self.nNeurons, self.nNeurons))\n",
    "        for ni in range(self.nNeurons):\n",
    "            for nj in range(self.nNeurons):\n",
    "                if(ni != nj):  \n",
    "                    for mu in range(self.patterns.shape[0]):\n",
    "                        p = self.patterns[mu]\n",
    "                        self.W[ni,nj] += p[ni] * p[nj]\n",
    "\n",
    "        self.W = self.W/self.nNeurons     \n",
    "\n",
    "    def recall(self, S_t0): \n",
    "        # recordar un patrón\n",
    "        S_t1 = np.zeros(S_t0.shape)\n",
    "        for i in range(self.nNeurons):\n",
    "            for j in range(self.nNeurons):\n",
    "                if(j != i):\n",
    "                    S_t1[i] += self.W[i][j] * S_t0[j]\n",
    "\n",
    "            S_t1[i] = np.sign(S_t1[i])\n",
    "            \n",
    "        return S_t1\n",
    "    \n",
    "    def overlap(self, S_t0):\n",
    "        S_t1 = self.recall(S_t0)\n",
    "        # Medir la superposición\n",
    "        m = 0\n",
    "        for i in range(self.nNeurons):\n",
    "            m += S_t0[i] * S_t1[i]\n",
    "            \n",
    "        return m/self.nNeurons \n",
    "        \n",
    "    def global_overlap(self):\n",
    "        mp = 0\n",
    "        for mu in range(self.patterns.shape[0]):\n",
    "            ## mu: patrón en el que setear la red\n",
    "            mp += self.overlap(self.patterns[mu])\n",
    "\n",
    "        # superposición global\n",
    "        mp = mp/self.patterns.shape[0]\n",
    "        return mp\n",
    "\n",
    "    \n",
    "    def get_patterns(self):\n",
    "        return self.patterns\n",
    "        "
   ]
  },
  {
   "cell_type": "markdown",
   "metadata": {},
   "source": [
    "Utiliza el programa realizado para $N = 500$ para graficar $<m><p>$ vs. $p/N$ variando p entre $p_{inic} = 10$ y\n",
    "$p_{max} = 100$ con paso $∆p = 10$.\n",
    "\n",
    "Repetí para $N = 1000$ con $p_{inic} = 20$ y $p_{max} = 200$ con paso $∆p = 20$ y para $N = 2000$ con $p_{inic} = 40$ y\n",
    "$p_{max} = 400$ con paso $∆p = 40$"
   ]
  },
  {
   "cell_type": "code",
   "execution_count": null,
   "metadata": {},
   "outputs": [
    {
     "name": "stdout",
     "output_type": "stream",
     "text": [
      "\n",
      " 2000  neuronas\n",
      "\n",
      "p =  40 \tsuperposición =  1.0\n",
      "p =  80 \tsuperposición =  1.0\n",
      "p =  120 \tsuperposición =  0.9999916666666666\n",
      "p =  160 \tsuperposición =  0.9996187499999996\n"
     ]
    }
   ],
   "source": [
    "training_dict = {'Neurons': [500, 1000, 2000], 'p_inic': [10, 20, 40], 'p_max': [100, 200, 400],\n",
    "                'delta_p': [10, 20, 40]}\n",
    "#mp_values = []\n",
    "#p_values = []\n",
    "for i in range(2,len(training_dict['Neurons'])):\n",
    "    mp = []\n",
    "    N = training_dict['Neurons'][i]\n",
    "    print('\\n', N, ' neuronas\\n')\n",
    "    p_inic = training_dict['p_inic'][i]\n",
    "    p_max = training_dict['p_max'][i]\n",
    "    delta_p = training_dict['delta_p'][i]\n",
    "    p_list = []\n",
    "    for p in range(p_inic, p_max, delta_p):\n",
    "        hp = HopfieldNetwork(N, p)\n",
    "        hp.train()\n",
    "        mp.append(hp.global_overlap())\n",
    "        p_list.append(p)\n",
    "        print('p = ', p, '\\tsuperposición = ', mp[-1])\n",
    "    p_list = np.array(p_list)/N  \n",
    "    \n",
    "    mp_values.append(mp)\n",
    "    p_values.append(p_list)\n",
    "    \n",
    "    "
   ]
  },
  {
   "cell_type": "code",
   "execution_count": 32,
   "metadata": {},
   "outputs": [
    {
     "data": {
      "text/plain": [
       "<matplotlib.legend.Legend at 0x222217e20f0>"
      ]
     },
     "execution_count": 32,
     "metadata": {},
     "output_type": "execute_result"
    },
    {
     "data": {
      "image/png": "[encoded data removed]",
      "text/plain": [
       "<Figure size 432x288 with 1 Axes>"
      ]
     },
     "metadata": {
      "needs_background": "light"
     },
     "output_type": "display_data"
    }
   ],
   "source": [
    "import matplotlib.pyplot as plt\n",
    "plt.plot(p_values[0], mp_values[0], label=\"500 Neuronas\")\n",
    "plt.plot(p_values[1], mp_values[1], label=\"1000 Neuronas\")\n",
    "plt.title(\"Gráfico de <m><p> vs p/N\")\n",
    "plt.xlim(0, 1)\n",
    "plt.legend()"
   ]
  },
  {
   "cell_type": "code",
   "execution_count": 26,
   "metadata": {},
   "outputs": [],
   "source": [
    "p_values2 = p_values\n",
    "mp_values2 = mp_values"
   ]
  },
  {
   "cell_type": "markdown",
   "metadata": {},
   "source": [
    "## Referencias\n",
    "\n",
    "http://www.udb.edu.sv/udb/archivo/guia/informatica-ingenieria/sistemas-expertos-e-inteligencia-artificial/2016/i/guia-10.pdf\n",
    "\n",
    "https://neuronaldynamics.epfl.ch/online/Ch17.S2.html\n"
   ]
  },
  {
   "cell_type": "code",
   "execution_count": 27,
   "metadata": {},
   "outputs": [
    {
     "data": {
      "text/plain": [
       "[[1.0,\n",
       "  1.0,\n",
       "  1.0,\n",
       "  0.9996,\n",
       "  0.9993599999999999,\n",
       "  0.9965333333333334,\n",
       "  0.9934285714285713,\n",
       "  0.9889499999999998,\n",
       "  0.9807999999999999],\n",
       " [1.0,\n",
       "  1.0,\n",
       "  0.9999333333333333,\n",
       "  0.9996499999999999,\n",
       "  0.9987000000000001,\n",
       "  0.9960833333333333,\n",
       "  0.9926499999999998,\n",
       "  0.9883312499999997,\n",
       "  0.9813777777777775]]"
      ]
     },
     "execution_count": 27,
     "metadata": {},
     "output_type": "execute_result"
    }
   ],
   "source": [
    "mp_values2"
   ]
  },
  {
   "cell_type": "code",
   "execution_count": null,
   "metadata": {},
   "outputs": [],
   "source": [
    "p"
   ]
  }
 ],
 "metadata": {
  "kernelspec": {
   "display_name": "Python 3",
   "language": "python",
   "name": "python3"
  },
  "language_info": {
   "codemirror_mode": {
    "name": "ipython",
    "version": 3
   },
   "file_extension": ".py",
   "mimetype": "text/x-python",
   "name": "python",
   "nbconvert_exporter": "python",
   "pygments_lexer": "ipython3",
   "version": "3.6.8"
  }
 },
 "nbformat": 4,
 "nbformat_minor": 2
}
